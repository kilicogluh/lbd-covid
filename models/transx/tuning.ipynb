{
 "cells": [
  {
   "cell_type": "code",
   "execution_count": null,
   "metadata": {},
   "outputs": [],
   "source": [
    "import numpy as np\n",
    "import itertools\n",
    "import datetime"
   ]
  },
  {
   "cell_type": "code",
   "execution_count": null,
   "metadata": {},
   "outputs": [],
   "source": [
    "params = {\n",
    "    \"lr\": [0.001, 0.01, 0.1],\n",
    "    \"neg_adv\": [True, False],\n",
    "    \"hidden_dim\": [50, 100, 250, 400],\n",
    "    \"norm\": ['l1', 'l2'],\n",
    "    \"regularization_coef\": [2e-6, 2e-8],\n",
    "    \"gamma\": [1, 5, 10, 20],\n",
    "}"
   ]
  },
  {
   "cell_type": "code",
   "execution_count": null,
   "metadata": {},
   "outputs": [],
   "source": [
    "def get_random_samples(params, n, replacement=False, seed=42):\n",
    "    all_keys = params.keys()\n",
    "    all_vals = [v for k,v in params.items()]\n",
    "    combinations = list(itertools.product(*all_vals))\n",
    "    \n",
    "    rnd = np.random.RandomState(seed)\n",
    "    res_list = [combinations[i] for i in rnd.choice(len(combinations), n, replace=replacement)]\n",
    "    all_res = []\n",
    "    \n",
    "    for p in res_list:\n",
    "        all_res.append( {k: p[i] for (i,k) in enumerate(all_keys)} )\n",
    "        \n",
    "    return all_res"
   ]
  },
  {
   "cell_type": "code",
   "execution_count": null,
   "metadata": {},
   "outputs": [],
   "source": [
    "n = 22\n",
    "samples = get_random_samples(params, n)"
   ]
  },
  {
   "cell_type": "code",
   "execution_count": null,
   "metadata": {},
   "outputs": [],
   "source": [
    "# fixed params\n",
    "DATA_PATH=\"./train\"\n",
    "SAVE_PATH=\"./data/results\"\n",
    "DATASET=\"COVID-19\"\n",
    "FORMAT=\"raw_udd_hrt\"\n",
    "\n",
    "LOG_INTERVAL=1000\n",
    "BATCH_SIZE=2070\n",
    "BATCH_SIZE_EVAL=1020\n",
    "NEG_SAMPLE_SIZE=30"
   ]
  },
  {
   "cell_type": "code",
   "execution_count": null,
   "metadata": {},
   "outputs": [],
   "source": [
    "import os\n",
    "\n",
    "for idx, s in enumerate(samples):\n",
    "    print(f\"---TEST {idx + 1}---\")\n",
    "        \n",
    "    model_name = f\"TransE_{s['norm']}\"\n",
    "    neg_adv_flag = '-adv' if s['neg_adv'] else ''\n",
    "\n",
    "    folder = '{}_{}_'.format(model_name, DATASET)\n",
    "    n = len([x for x in os.listdir(SAVE_PATH) if x.startswith(folder)])\n",
    "    folder += str(n)\n",
    "    model_path = os.path.join(SAVE_PATH, folder)\n",
    "    filename = f\"./log/run_{idx + 1}_{folder}.txt\"\n",
    "    \n",
    "    !DGLBACKEND=pytorch dglke_train --model_name {model_name} --data_path {DATA_PATH} --save_path {SAVE_PATH}  --dataset {DATASET}  --format {FORMAT} \\\n",
    "    --data_files train.tsv valid.tsv test.tsv \\\n",
    "    --log_interval {LOG_INTERVAL} --batch_size {BATCH_SIZE} --batch_size_eval {BATCH_SIZE_EVAL} --neg_sample_size {NEG_SAMPLE_SIZE} \\\n",
    "    --lr {s['lr']} {neg_adv_flag} --hidden_dim {s['hidden_dim']} -rc {s['regularization_coef']} -g {s['gamma']} \\\n",
    "    --gpu 0 --mix_cpu_gpu --max_step 10000\n",
    "    \n",
    "    !DGLBACKEND=pytorch dglke_eval --dataset {DATASET} --data_path {DATA_PATH} --data_files train.tsv valid.tsv test.tsv \\\n",
    "    --format {FORMAT} --model_name {model_name} --hidden_dim {s['hidden_dim']} \\\n",
    "    --gpu 0 --model_path {model_path} --batch_size_eval 1020 --neg_sample_size_eval 30 |& tee {filename}"
   ]
  }
 ],
 "metadata": {
  "kernelspec": {
   "display_name": "Python 3 (ipykernel)",
   "language": "python",
   "name": "python3"
  },
  "language_info": {
   "codemirror_mode": {
    "name": "ipython",
    "version": 3
   },
   "file_extension": ".py",
   "mimetype": "text/x-python",
   "name": "python",
   "nbconvert_exporter": "python",
   "pygments_lexer": "ipython3",
   "version": "3.9.7"
  }
 },
 "nbformat": 4,
 "nbformat_minor": 4
}
