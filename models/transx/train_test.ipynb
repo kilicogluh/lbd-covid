{
 "cells": [
  {
   "cell_type": "code",
   "execution_count": null,
   "metadata": {},
   "outputs": [],
   "source": [
    "import pandas as pd\n",
    "import numpy as np\n",
    "\n",
    "from collections import defaultdict\n",
    "from datetime import datetime"
   ]
  },
  {
   "cell_type": "code",
   "execution_count": null,
   "metadata": {},
   "outputs": [],
   "source": [
    "dct = defaultdict(list)\n",
    "\n",
    "with open('./data/triplets.tsv', 'r') as fh:\n",
    "    for line in fh:\n",
    "        sub, rel, obj, edat = line.rstrip('\\n').split('\\t')\n",
    "        triple = (sub, rel, obj)\n",
    "        dct[triple].append(datetime.strptime(edat, '%Y-%m-%d').date())\n",
    "\n",
    "min_edat = {k: min(dct[k]) for k in dct}"
   ]
  },
  {
   "cell_type": "code",
   "execution_count": null,
   "metadata": {},
   "outputs": [],
   "source": [
    "df = pd.Series(min_edat).reset_index()\n",
    "df.columns = ['subject', 'relation', 'object', 'edat']"
   ]
  },
  {
   "cell_type": "code",
   "execution_count": null,
   "metadata": {},
   "outputs": [],
   "source": [
    "TH1 = datetime.strptime('2012-01-01', '%Y-%m-%d').date()\n",
    "TH2 = datetime.strptime('2020-03-11', '%Y-%m-%d').date()\n",
    "df_train = df[df.edat <= TH1]\n",
    "df_valid = df[(df.edat > TH1) & (df.edat <= TH2)]\n",
    "df_test = df[df.edat > TH2]"
   ]
  },
  {
   "cell_type": "code",
   "execution_count": null,
   "metadata": {},
   "outputs": [],
   "source": [
    "df_train.to_csv('./train/train.tsv', sep='\\t', header=None, columns=['subject', 'relation', 'object'], index=False)\n",
    "df_valid.to_csv('./train/valid.tsv', sep='\\t', header=None, columns=['subject', 'relation', 'object'], index=False)\n",
    "df_test.to_csv('./train/test.tsv', sep='\\t', header=None, columns=['subject', 'relation', 'object'], index=False)"
   ]
  },
  {
   "cell_type": "code",
   "execution_count": null,
   "metadata": {
    "tags": []
   },
   "outputs": [],
   "source": [
    "# TransE\n",
    "!DGLBACKEND=pytorch dglke_train --model_name TransE_l1 --data_path ./train --save_path ./data/results/final  --dataset COVID-19  --format raw_udd_hrt \\\n",
    "    --data_files train.tsv valid.tsv test.tsv \\\n",
    "    --log_interval 1000 --batch_size 2070 --batch_size_eval 1020 --neg_sample_size 30 \\\n",
    "    --lr 0.01 --hidden_dim 400 -rc 2e-08 \\\n",
    "    --gpu 0 --mix_cpu_gpu --max_step 20000"
   ]
  },
  {
   "cell_type": "code",
   "execution_count": null,
   "metadata": {},
   "outputs": [],
   "source": [
    "!DGLBACKEND=pytorch dglke_eval --dataset COVID-19 --data_path ./train --data_files train.tsv valid.tsv test.tsv \\\n",
    "    --format raw_udd_hrt --model_name TransE_l1 --hidden_dim 400 \\\n",
    "    --gpu 0 --model_path ./data/results/final/TransE_l1_COVID-19_0 --batch_size_eval 1020 --neg_sample_size_eval 30"
   ]
  },
  {
   "cell_type": "code",
   "execution_count": null,
   "metadata": {},
   "outputs": [],
   "source": [
    "# DistMult\n",
    "!DGLBACKEND=pytorch dglke_train --model_name DistMult --data_path ./train --save_path ./data/results/final  --dataset COVID-19  --format raw_udd_hrt \\\n",
    "    --data_files train.tsv valid.tsv test.tsv \\\n",
    "    --log_interval 1000 --batch_size 2070 --batch_size_eval 1020 --neg_sample_size 30 \\\n",
    "    --lr 0.1 -adv --hidden_dim 50 -rc 2e-08 \\\n",
    "    --gpu 0 --mix_cpu_gpu --max_step 20000"
   ]
  },
  {
   "cell_type": "code",
   "execution_count": null,
   "metadata": {},
   "outputs": [],
   "source": [
    "!DGLBACKEND=pytorch dglke_eval --dataset COVID-19 --data_path ./train --data_files train.tsv valid.tsv test.tsv \\\n",
    "    --format raw_udd_hrt --model_name DistMult --hidden_dim 50 \\\n",
    "    --gpu 0 --model_path ./data/results/final/DistMult_COVID-19_1 --batch_size_eval 1020 --neg_sample_size_eval 30"
   ]
  },
  {
   "cell_type": "code",
   "execution_count": null,
   "metadata": {},
   "outputs": [],
   "source": [
    "# ComplEx\n",
    "!DGLBACKEND=pytorch dglke_train --model_name ComplEx --data_path ./train --save_path ./data/results/final  --dataset COVID-19  --format raw_udd_hrt \\\n",
    "    --data_files train.tsv valid.tsv test.tsv \\\n",
    "    --log_interval 1000 --batch_size 2070 --batch_size_eval 1020 --neg_sample_size 30 \\\n",
    "    --lr 0.1 -adv --hidden_dim 50 -rc 2e-08 \\\n",
    "    --gpu 0 --mix_cpu_gpu --max_step 20000"
   ]
  },
  {
   "cell_type": "code",
   "execution_count": null,
   "metadata": {},
   "outputs": [],
   "source": [
    "!DGLBACKEND=pytorch dglke_eval --dataset COVID-19 --data_path ./train --data_files train.tsv valid.tsv test.tsv \\\n",
    "    --format raw_udd_hrt --model_name ComplEx --hidden_dim 50 \\\n",
    "    --gpu 0 --model_path ./data/results/final/ComplEx_COVID-19_1 --batch_size_eval 1020 --neg_sample_size_eval 30"
   ]
  },
  {
   "cell_type": "code",
   "execution_count": null,
   "metadata": {},
   "outputs": [],
   "source": [
    "# RotatE\n",
    "!DGLBACKEND=pytorch dglke_train --model_name RotatE --data_path ./train --save_path ./data/results/final  --dataset COVID-19  --format raw_udd_hrt \\\n",
    "    --data_files train.tsv valid.tsv test.tsv \\\n",
    "    --log_interval 1000 --batch_size 2070 --batch_size_eval 1020 --neg_sample_size 30 \\\n",
    "    --lr 0.01 -de --hidden_dim 250 -rc 2e-06 -g 5 \\\n",
    "    --gpu 0 --mix_cpu_gpu --max_step 20000"
   ]
  },
  {
   "cell_type": "code",
   "execution_count": null,
   "metadata": {
    "tags": []
   },
   "outputs": [],
   "source": [
    "!DGLBACKEND=pytorch dglke_eval --dataset COVID-19 --data_path ./train --data_files train.tsv valid.tsv test.tsv \\\n",
    "    --format raw_udd_hrt --model_name RotatE --hidden_dim 250 \\\n",
    "    --gpu 0 --model_path ./data/results/final/RotatE_COVID-19_0 --batch_size_eval 1020 --neg_sample_size_eval 30"
   ]
  }
 ],
 "metadata": {
  "kernelspec": {
   "display_name": "Python 3 (ipykernel)",
   "language": "python",
   "name": "python3"
  },
  "language_info": {
   "codemirror_mode": {
    "name": "ipython",
    "version": 3
   },
   "file_extension": ".py",
   "mimetype": "text/x-python",
   "name": "python",
   "nbconvert_exporter": "python",
   "pygments_lexer": "ipython3",
   "version": "3.9.7"
  }
 },
 "nbformat": 4,
 "nbformat_minor": 4
}
