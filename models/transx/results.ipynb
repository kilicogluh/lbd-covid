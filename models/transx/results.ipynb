{
 "cells": [
  {
   "cell_type": "code",
   "execution_count": null,
   "metadata": {},
   "outputs": [],
   "source": [
    "import pandas as pd"
   ]
  },
  {
   "cell_type": "code",
   "execution_count": null,
   "metadata": {},
   "outputs": [],
   "source": [
    "instances = pd.read_csv('./data/cui2name.tsv', sep='\\t', header=None, names=['cui', 'name'])\n",
    "\n",
    "#results = pd.read_csv('./predictions/DISRUPTS_ComplEx_outfile.txt', sep='\\t')\n",
    "#results = pd.read_csv('./predictions/INHIBITS_ComplEx_outfile.txt', sep='\\t')\n",
    "#results = pd.read_csv('./predictions/PREVENTS_ComplEx_outfile.txt', sep='\\t')\n",
    "#results = pd.read_csv('./predictions/TREATS_ComplEx_outfile.txt', sep='\\t')\n",
    "\n",
    "#results = pd.read_csv('./predictions/DISRUPTS_DistMult_outfile.txt', sep='\\t')\n",
    "#results = pd.read_csv('./predictions/INHIBITS_DistMult_outfile.txt', sep='\\t')\n",
    "#results = pd.read_csv('./predictions/PREVENTS_DistMult_outfile.txt', sep='\\t')\n",
    "#results = pd.read_csv('./predictions/TREATS_DistMult_outfile.txt', sep='\\t')\n",
    "\n",
    "#results = pd.read_csv('./predictions/DISRUPTS_RotatE_outfile.txt', sep='\\t')\n",
    "#results = pd.read_csv('./predictions/INHIBITS_RotatE_outfile.txt', sep='\\t')\n",
    "#results = pd.read_csv('./predictions/PREVENTS_RotatE_outfile.txt', sep='\\t')\n",
    "results = pd.read_csv('./predictions/TREATS_RotatE_outfile.txt', sep='\\t')\n",
    "\n",
    "entities = pd.read_csv('./train/entities.tsv', sep='\\t', names=['id','entity'])\n",
    "relations = pd.read_csv('./train/relations.tsv', sep='\\t', names=['id','rel'])"
   ]
  },
  {
   "cell_type": "code",
   "execution_count": null,
   "metadata": {},
   "outputs": [],
   "source": [
    "(instances\n",
    " .drop_duplicates(subset=['cui'])\n",
    " .merge(entities, how='right', left_on='cui', right_on='entity')\n",
    " .to_csv('entities-cui2name.tsv.gz', sep='\\t', columns=['cui', 'name'], header=False, index=False, compression='gzip')\n",
    ")"
   ]
  },
  {
   "cell_type": "code",
   "execution_count": null,
   "metadata": {},
   "outputs": [],
   "source": [
    "results.sort_values('score', ascending=False, inplace=True)"
   ]
  },
  {
   "cell_type": "code",
   "execution_count": null,
   "metadata": {},
   "outputs": [],
   "source": [
    "results = results.iloc[3:]"
   ]
  },
  {
   "cell_type": "code",
   "execution_count": null,
   "metadata": {},
   "outputs": [],
   "source": [
    "results = results.head(100000)"
   ]
  },
  {
   "cell_type": "code",
   "execution_count": null,
   "metadata": {},
   "outputs": [],
   "source": [
    "id2entity = {}\n",
    "for i in range(entities.shape[0]):\n",
    "    id2entity[i] = entities['entity'].values[i]\n",
    "\n",
    "id2rel = {}\n",
    "for i in range(relations.shape[0]):\n",
    "    id2rel[i] = relations['rel'].values[i]\n",
    "    \n",
    "cui2name = dict(zip(instances['cui'], instances['name']))"
   ]
  },
  {
   "cell_type": "code",
   "execution_count": null,
   "metadata": {},
   "outputs": [],
   "source": [
    "df = results.replace({'head': id2entity, 'rel': id2rel, 'tail': id2entity})"
   ]
  },
  {
   "cell_type": "code",
   "execution_count": null,
   "metadata": {},
   "outputs": [],
   "source": [
    "def lookup(cui):\n",
    "    return cui2name[cui]\n",
    "\n",
    "df['head_name'] = df.apply(lambda row: lookup(row['head']), axis=1)\n",
    "df['tail_name'] = df.apply(lambda row: lookup(row['tail']), axis=1)"
   ]
  },
  {
   "cell_type": "code",
   "execution_count": null,
   "metadata": {},
   "outputs": [],
   "source": [
    "dct = {}\n",
    "with open('./data/classified_instances.csv') as fh:\n",
    "    for line in fh:\n",
    "        fields = line.rstrip('\\n').split('\\t')\n",
    "        triple = (fields[0], fields[2], fields[3])\n",
    "        if triple not in dct:\n",
    "            dct[triple] = 1"
   ]
  },
  {
   "cell_type": "code",
   "execution_count": null,
   "metadata": {},
   "outputs": [],
   "source": [
    "def is_novel(head, rel, tail):\n",
    "    triple = (head, rel, tail)\n",
    "    if triple in dct:\n",
    "        return False\n",
    "    else:\n",
    "        return True\n",
    "\n",
    "df['novel'] = df.apply(lambda row: is_novel(row['head'], row['rel'], row['tail']), axis=1)"
   ]
  },
  {
   "cell_type": "code",
   "execution_count": null,
   "metadata": {},
   "outputs": [],
   "source": [
    "cui2sty = {}\n",
    "with open('./data/cui2sty.tsv') as fh:\n",
    "    for line in fh:\n",
    "        cui, sty = line.rstrip('\\n').split('\\t')\n",
    "        if cui not in cui2sty:\n",
    "            cui2sty[cui] = sty"
   ]
  },
  {
   "cell_type": "code",
   "execution_count": null,
   "metadata": {},
   "outputs": [],
   "source": [
    "def add_sty(cui):\n",
    "    if cui in cui2sty:\n",
    "        return cui2sty[cui]\n",
    "    else:\n",
    "        return \"NULL\"\n",
    "\n",
    "df['head_sty'] = df.apply(lambda row: add_sty(row['head']), axis=1)\n",
    "df['tail_sty'] = df.apply(lambda row: add_sty(row['tail']), axis=1)"
   ]
  },
  {
   "cell_type": "code",
   "execution_count": null,
   "metadata": {},
   "outputs": [],
   "source": [
    "triples = {}\n",
    "with open('./data/12859_2020_3517_MOESM2_ESM.txt') as fh:\n",
    "    for line in fh:\n",
    "        _, triple = line.rstrip().split('|')\n",
    "        sub, rel, obj = triple.split('-')\n",
    "        triples[(sub, rel.upper(), obj)] = 1"
   ]
  },
  {
   "cell_type": "code",
   "execution_count": null,
   "metadata": {},
   "outputs": [],
   "source": [
    "def is_valid(sub, rel, obj):\n",
    "    if (sub, rel, obj) in triples:\n",
    "        return True\n",
    "    else:\n",
    "        return False\n",
    "\n",
    "df['valid'] = df.apply(lambda row: is_valid(row['head_sty'], row['rel'], row['tail_sty']), axis=1)"
   ]
  },
  {
   "cell_type": "code",
   "execution_count": null,
   "metadata": {},
   "outputs": [],
   "source": [
    "df = df[['head', 'head_name', 'head_sty', 'rel', 'tail', 'tail_name', 'tail_sty', 'score', 'novel', 'valid']]"
   ]
  },
  {
   "cell_type": "code",
   "execution_count": null,
   "metadata": {},
   "outputs": [],
   "source": [
    "#df.to_csv('./2020-12-16/DISRUPTS_ComplEx_output.csv', index=False)\n",
    "#df.to_csv('./2020-12-16/INHIBITS_ComplEx_output.csv', index=False)\n",
    "#df.to_csv('./2020-12-16/PREVENTS_ComplEx_output.csv', index=False)\n",
    "#df.to_csv('./2020-12-16/TREATS_ComplEx_output.csv', index=False)\n",
    "\n",
    "#df.to_csv('./2020-12-16/DISRUPTS_DistMult_output.csv', index=False)\n",
    "#df.to_csv('./2020-12-16/INHIBITS_DistMult_output.csv', index=False)\n",
    "#df.to_csv('./2020-12-16/PREVENTS_DistMult_output.csv', index=False)\n",
    "#df.to_csv('./2020-12-16/TREATS_DistMult_output.csv', index=False)\n",
    "\n",
    "#df.to_csv('./2020-12-16/DISRUPTS_RotatE_output.csv', index=False)\n",
    "#df.to_csv('./2020-12-16/INHIBITS_RotatE_output.csv', index=False)\n",
    "#df.to_csv('./2020-12-16/PREVENTS_RotatE_output.csv', index=False)\n",
    "#df.to_csv('./2020-12-16/TREATS_RotatE_output.csv', index=False)"
   ]
  },
  {
   "cell_type": "code",
   "execution_count": null,
   "metadata": {},
   "outputs": [],
   "source": [
    "## END OF EXPORT"
   ]
  }
 ],
 "metadata": {
  "kernelspec": {
   "display_name": "Python 3 (ipykernel)",
   "language": "python",
   "name": "python3"
  },
  "language_info": {
   "codemirror_mode": {
    "name": "ipython",
    "version": 3
   },
   "file_extension": ".py",
   "mimetype": "text/x-python",
   "name": "python",
   "nbconvert_exporter": "python",
   "pygments_lexer": "ipython3",
   "version": "3.9.7"
  }
 },
 "nbformat": 4,
 "nbformat_minor": 4
}
