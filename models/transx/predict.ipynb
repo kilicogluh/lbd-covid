{
 "cells": [
  {
   "cell_type": "code",
   "execution_count": null,
   "metadata": {},
   "outputs": [],
   "source": [
    "import pandas as pd\n",
    "import numpy as np"
   ]
  },
  {
   "cell_type": "code",
   "execution_count": null,
   "metadata": {},
   "outputs": [],
   "source": [
    "entities = pd.read_csv('./train/entities.tsv', sep='\\t', names=['id','entity'])\n",
    "relations = pd.read_csv('./train/relations.tsv', sep='\\t', names=['id','rel'])"
   ]
  },
  {
   "cell_type": "code",
   "execution_count": null,
   "metadata": {},
   "outputs": [],
   "source": [
    "entity2id = {}\n",
    "id2entity = {}\n",
    "for i in range(entities.shape[0]):\n",
    "    entity2id[entities['entity'].values[i]] = i\n",
    "    id2entity[i] = entities['entity'].values[i]"
   ]
  },
  {
   "cell_type": "code",
   "execution_count": null,
   "metadata": {},
   "outputs": [],
   "source": [
    "rel2id = {}\n",
    "id2rel = {}\n",
    "for i in range(relations.shape[0]):\n",
    "    rel2id[relations['rel'].values[i]] = i\n",
    "    id2rel[i] = relations['rel'].values[i]"
   ]
  },
  {
   "cell_type": "code",
   "execution_count": null,
   "metadata": {},
   "outputs": [],
   "source": [
    "entity_emb = np.load('./ckpts/RotatE_COVID-19_4/COVID-19_RotatE_entity.npy')\n",
    "rel_emb = np.load('./ckpts/RotatE_COVID-19_4/COVID-19_RotatE_relation.npy')"
   ]
  },
  {
   "cell_type": "code",
   "execution_count": null,
   "metadata": {},
   "outputs": [],
   "source": [
    "relation_list = [12]\n",
    "with open('./rel.list', 'w') as f:\n",
    "    for item in relation_list:\n",
    "        print(item)\n",
    "        f.write(\"%s\\n\" % item)"
   ]
  },
  {
   "cell_type": "code",
   "execution_count": null,
   "metadata": {},
   "outputs": [],
   "source": [
    "tail = entities[(entities.entity.str.contains('C5203670')) | (entities.entity.str.contains('C5203671')) | (entities.entity.str.contains('C5203676'))]\n",
    "tail_list = tail.id.values.tolist()\n",
    "\n",
    "with open('tail.list', 'w') as f:\n",
    "    for item in tail_list:\n",
    "        f.write(\"%s\\n\" % item)"
   ]
  },
  {
   "cell_type": "code",
   "execution_count": null,
   "metadata": {},
   "outputs": [],
   "source": [
    "with open('head.list', 'w') as f:\n",
    "    with open('./cui.list') as fh:\n",
    "        for line in fh:\n",
    "            cui = line.rstrip('\\n')\n",
    "            if cui in entity2id:\n",
    "                f.write('%s\\n' % entity2id[cui])"
   ]
  },
  {
   "cell_type": "code",
   "execution_count": null,
   "metadata": {},
   "outputs": [],
   "source": [
    "for idx, i in enumerate(relation_list):\n",
    "    with open('./rel.list', 'w') as f:\n",
    "        f.write(\"%s\\n\" % i)\n",
    "    OUTFILE='./predictions/results_TransE_' + str(id2rel[i]) + '.txt'\n",
    "    !DGLBACKEND=pytorch dglke_predict --model_path ./data/results/final/TransE_l1_COVID-19_0 --format '*_r_t' \\\n",
    "    --data_files rel.list tail.list --topK 10 --gpu 0 --exec_mode batch_head \\\n",
    "    --output {OUTFILE}"
   ]
  },
  {
   "cell_type": "code",
   "execution_count": null,
   "metadata": {},
   "outputs": [],
   "source": [
    "for idx, i in enumerate(relation_list):\n",
    "    with open('./rel.list', 'w') as f:\n",
    "        f.write(\"%s\\n\" % i)\n",
    "    OUTFILE='./predictions/results_RotatE_' + str(id2rel[i]) + '.txt'\n",
    "    !DGLBACKEND=pytorch dglke_predict --model_path ./data/results/final/RotatE_COVID-19_0 --format '*_r_t' \\\n",
    "    --data_files rel.list tail.list --topK 1 --gpu 0 --exec_mode batch_head \\\n",
    "    --output {OUTFILE}"
   ]
  },
  {
   "cell_type": "code",
   "execution_count": null,
   "metadata": {},
   "outputs": [],
   "source": [
    "for idx, i in enumerate(relation_list):\n",
    "    with open('./rel.list', 'w') as f:\n",
    "        f.write(\"%s\\n\" % i)\n",
    "    OUTFILE='./predictions/results_ComplEx_' + str(id2rel[i]) + '.txt'\n",
    "    !DGLBACKEND=pytorch dglke_predict --model_path ./data/results/final/ComplEx_COVID-19_0 --format '*_r_t' \\\n",
    "    --data_files rel.list tail.list --gpu 0 --exec_mode batch_head \\\n",
    "    --output {OUTFILE}"
   ]
  },
  {
   "cell_type": "code",
   "execution_count": null,
   "metadata": {},
   "outputs": [],
   "source": [
    "!DGLBACKEND=pytorch dglke_predict --model_path ./data/results/final/TransE_l1_COVID-19_0 --format 'h_r_t' \\\n",
    "    --data_files head.list rel.list tail.list --topK 1 --gpu 0 --exec_mode batch_head"
   ]
  },
  {
   "cell_type": "code",
   "execution_count": null,
   "metadata": {},
   "outputs": [],
   "source": [
    "!DGLBACKEND=pytorch dglke_predict --model_path ./data/results/final/RotatE_COVID-19_0 --format 'h_r_t' \\\n",
    "    --data_files head.list rel.list tail.list --topK 1 --gpu 0 --exec_mode batch_head"
   ]
  },
  {
   "cell_type": "markdown",
   "metadata": {},
   "source": [
    "## Venn diagram"
   ]
  },
  {
   "cell_type": "markdown",
   "metadata": {},
   "source": [
    "### TransE"
   ]
  },
  {
   "cell_type": "code",
   "execution_count": null,
   "metadata": {},
   "outputs": [],
   "source": [
    "OUTFILE='./predictions/DISRUPTS_TransE_outfile.txt'\n",
    "!DGLBACKEND=pytorch dglke_predict --model_path ./data/results_complex/ComplEx_COVID-19_14 --format '*_r_t' \\\n",
    "--data_files rel.list tail.list --topK 1 --gpu 0 --exec_mode batch_head \\\n",
    "--output {OUTFILE}"
   ]
  },
  {
   "cell_type": "code",
   "execution_count": null,
   "metadata": {},
   "outputs": [],
   "source": [
    "OUTFILE='./predictions/INHIBITS_ComplEx_outfile.txt'\n",
    "!DGLBACKEND=pytorch dglke_predict --model_path ./data/results_complex/ComplEx_COVID-19_14 --format '*_r_t' \\\n",
    "--data_files rel.list tail.list --topK 1 --gpu 0 --exec_mode batch_head \\\n",
    "--output {OUTFILE}"
   ]
  },
  {
   "cell_type": "code",
   "execution_count": null,
   "metadata": {},
   "outputs": [],
   "source": [
    "OUTFILE='./predictions/PREVENTS_ComplEx_outfile.txt'\n",
    "!DGLBACKEND=pytorch dglke_predict --model_path ./data/results_complex/ComplEx_COVID-19_14 --format '*_r_t' \\\n",
    "--data_files rel.list tail.list --topK 1 --gpu 0 --exec_mode batch_head \\\n",
    "--output {OUTFILE}"
   ]
  },
  {
   "cell_type": "code",
   "execution_count": null,
   "metadata": {},
   "outputs": [],
   "source": [
    "OUTFILE='./predictions/TREATS_ComplEx_outfile.txt'\n",
    "!DGLBACKEND=pytorch dglke_predict --model_path ./data/results_complex/ComplEx_COVID-19_14 --format '*_r_t' \\\n",
    "--data_files rel.list tail.list --topK 1 --gpu 0 --exec_mode batch_head \\\n",
    "--output {OUTFILE}"
   ]
  },
  {
   "cell_type": "markdown",
   "metadata": {},
   "source": [
    "### RotatE"
   ]
  },
  {
   "cell_type": "code",
   "execution_count": null,
   "metadata": {},
   "outputs": [],
   "source": [
    "OUTFILE='./predictions/DISRUPTS_RotatE_outfile.txt'\n",
    "!DGLBACKEND=pytorch dglke_predict --model_path ./data/results_rotate/RotatE_COVID-19_4 --format '*_r_t' \\\n",
    "--data_files rel.list tail.list --topK 1 --gpu 0 --exec_mode batch_head \\\n",
    "--output {OUTFILE}"
   ]
  },
  {
   "cell_type": "code",
   "execution_count": null,
   "metadata": {},
   "outputs": [],
   "source": [
    "OUTFILE='./predictions/INHIBITS_RotatE_outfile.txt'\n",
    "!DGLBACKEND=pytorch dglke_predict --model_path ./data/results_rotate/RotatE_COVID-19_4 --format '*_r_t' \\\n",
    "--data_files rel.list tail.list --topK 1 --gpu 0 --exec_mode batch_head \\\n",
    "--output {OUTFILE}"
   ]
  },
  {
   "cell_type": "code",
   "execution_count": null,
   "metadata": {},
   "outputs": [],
   "source": [
    "OUTFILE='./predictions/PREVENTS_RotatE_outfile.txt'\n",
    "!DGLBACKEND=pytorch dglke_predict --model_path ./data/results_rotate/RotatE_COVID-19_4 --format '*_r_t' \\\n",
    "--data_files rel.list tail.list --topK 1 --gpu 0 --exec_mode batch_head \\\n",
    "--output {OUTFILE}"
   ]
  },
  {
   "cell_type": "code",
   "execution_count": null,
   "metadata": {},
   "outputs": [],
   "source": [
    "OUTFILE='./predictions/TREATS_RotatE_outfile.txt'\n",
    "!DGLBACKEND=pytorch dglke_predict --model_path ./data/results_rotate/RotatE_COVID-19_4 --format '*_r_t' \\\n",
    "--data_files rel.list tail.list --topK 1 --gpu 0 --exec_mode batch_head \\\n",
    "--output {OUTFILE}"
   ]
  },
  {
   "cell_type": "markdown",
   "metadata": {},
   "source": [
    "### ComplEx"
   ]
  },
  {
   "cell_type": "code",
   "execution_count": null,
   "metadata": {},
   "outputs": [],
   "source": [
    "OUTFILE='./predictions/DISRUPTS_ComplEx_outfile.txt'\n",
    "!DGLBACKEND=pytorch dglke_predict --model_path ./data/results_complex/ComplEx_COVID-19_14 --format '*_r_t' \\\n",
    "--data_files rel.list tail.list --topK 1 --gpu 0 --exec_mode batch_head \\\n",
    "--output {OUTFILE}"
   ]
  },
  {
   "cell_type": "code",
   "execution_count": null,
   "metadata": {},
   "outputs": [],
   "source": [
    "OUTFILE='./predictions/INHIBITS_ComplEx_outfile.txt'\n",
    "!DGLBACKEND=pytorch dglke_predict --model_path ./data/results_complex/ComplEx_COVID-19_14 --format '*_r_t' \\\n",
    "--data_files rel.list tail.list --topK 1 --gpu 0 --exec_mode batch_head \\\n",
    "--output {OUTFILE}"
   ]
  },
  {
   "cell_type": "code",
   "execution_count": null,
   "metadata": {},
   "outputs": [],
   "source": [
    "OUTFILE='./predictions/PREVENTS_ComplEx_outfile.txt'\n",
    "!DGLBACKEND=pytorch dglke_predict --model_path ./data/results_complex/ComplEx_COVID-19_14 --format '*_r_t' \\\n",
    "--data_files rel.list tail.list --topK 1 --gpu 0 --exec_mode batch_head \\\n",
    "--output {OUTFILE}"
   ]
  },
  {
   "cell_type": "code",
   "execution_count": null,
   "metadata": {},
   "outputs": [],
   "source": [
    "OUTFILE='./predictions/TREATS_ComplEx_outfile.txt'\n",
    "!DGLBACKEND=pytorch dglke_predict --model_path ./data/results_complex/ComplEx_COVID-19_14 --format '*_r_t' \\\n",
    "--data_files rel.list tail.list --topK 1 --gpu 0 --exec_mode batch_head \\\n",
    "--output {OUTFILE}"
   ]
  },
  {
   "cell_type": "markdown",
   "metadata": {},
   "source": [
    "### DistMult"
   ]
  },
  {
   "cell_type": "code",
   "execution_count": null,
   "metadata": {},
   "outputs": [],
   "source": [
    "OUTFILE='./predictions/DISRUPTS_DistMult_outfile.txt'\n",
    "!DGLBACKEND=pytorch dglke_predict --model_path ./data/results_distmult/DistMult_COVID-19_14 --format '*_r_t' \\\n",
    "--data_files rel.list tail.list --topK 1 --gpu 0 --exec_mode batch_head \\\n",
    "--output {OUTFILE}"
   ]
  },
  {
   "cell_type": "code",
   "execution_count": null,
   "metadata": {},
   "outputs": [],
   "source": [
    "OUTFILE='./predictions/INHIBITS_DistMult_outfile.txt'\n",
    "!DGLBACKEND=pytorch dglke_predict --model_path ./data/results_distmult/DistMult_COVID-19_14 --format '*_r_t' \\\n",
    "--data_files rel.list tail.list --topK 1 --gpu 0 --exec_mode batch_head \\\n",
    "--output {OUTFILE}"
   ]
  },
  {
   "cell_type": "code",
   "execution_count": null,
   "metadata": {},
   "outputs": [],
   "source": [
    "OUTFILE='./predictions/PREVENTS_DistMult_outfile.txt'\n",
    "!DGLBACKEND=pytorch dglke_predict --model_path ./data/results_distmult/DistMult_COVID-19_14 --format '*_r_t' \\\n",
    "--data_files rel.list tail.list --topK 1 --gpu 0 --exec_mode batch_head \\\n",
    "--output {OUTFILE}"
   ]
  },
  {
   "cell_type": "code",
   "execution_count": null,
   "metadata": {},
   "outputs": [],
   "source": [
    "OUTFILE='./predictions/TREATS_DistMult_outfile.txt'\n",
    "!DGLBACKEND=pytorch dglke_predict --model_path ./data/results_distmult/DistMult_COVID-19_14 --format '*_r_t' \\\n",
    "--data_files rel.list tail.list --topK 1 --gpu 0 --exec_mode batch_head \\\n",
    "--output {OUTFILE}"
   ]
  },
  {
   "cell_type": "code",
   "execution_count": null,
   "metadata": {},
   "outputs": [],
   "source": []
  }
 ],
 "metadata": {
  "kernelspec": {
   "display_name": "Python 3 (ipykernel)",
   "language": "python",
   "name": "python3"
  },
  "language_info": {
   "codemirror_mode": {
    "name": "ipython",
    "version": 3
   },
   "file_extension": ".py",
   "mimetype": "text/x-python",
   "name": "python",
   "nbconvert_exporter": "python",
   "pygments_lexer": "ipython3",
   "version": "3.9.7"
  }
 },
 "nbformat": 4,
 "nbformat_minor": 4
}
